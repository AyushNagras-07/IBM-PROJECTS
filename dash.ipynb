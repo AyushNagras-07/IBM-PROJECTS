{
 "cells": [
  {
   "cell_type": "code",
   "execution_count": 2,
   "id": "fead3a08-a43a-4ae9-a85f-a36fd4b6c987",
   "metadata": {},
   "outputs": [
    {
     "name": "stdout",
     "output_type": "stream",
     "text": [
      "Requirement already satisfied: packaging in c:\\users\\ayush\\anaconda3\\lib\\site-packages (24.2)\n"
     ]
    }
   ],
   "source": [
    "!pip install packaging"
   ]
  },
  {
   "cell_type": "code",
   "execution_count": 3,
   "id": "a3ee0a48-c5f7-4e8d-8665-27d506c277f2",
   "metadata": {},
   "outputs": [
    {
     "name": "stdout",
     "output_type": "stream",
     "text": [
      "Requirement already satisfied: pandas in c:\\users\\ayush\\anaconda3\\lib\\site-packages (2.2.3)\n",
      "Collecting dash\n",
      "  Downloading dash-3.1.1-py3-none-any.whl.metadata (10 kB)\n",
      "Requirement already satisfied: numpy>=1.26.0 in c:\\users\\ayush\\anaconda3\\lib\\site-packages (from pandas) (2.1.3)\n",
      "Requirement already satisfied: python-dateutil>=2.8.2 in c:\\users\\ayush\\anaconda3\\lib\\site-packages (from pandas) (2.9.0.post0)\n",
      "Requirement already satisfied: pytz>=2020.1 in c:\\users\\ayush\\anaconda3\\lib\\site-packages (from pandas) (2024.1)\n",
      "Requirement already satisfied: tzdata>=2022.7 in c:\\users\\ayush\\anaconda3\\lib\\site-packages (from pandas) (2025.2)\n",
      "Requirement already satisfied: Flask<3.2,>=1.0.4 in c:\\users\\ayush\\anaconda3\\lib\\site-packages (from dash) (3.1.0)\n",
      "Requirement already satisfied: Werkzeug<3.2 in c:\\users\\ayush\\anaconda3\\lib\\site-packages (from dash) (3.1.3)\n",
      "Requirement already satisfied: plotly>=5.0.0 in c:\\users\\ayush\\anaconda3\\lib\\site-packages (from dash) (5.24.1)\n",
      "Requirement already satisfied: importlib-metadata in c:\\users\\ayush\\anaconda3\\lib\\site-packages (from dash) (8.5.0)\n",
      "Requirement already satisfied: typing-extensions>=4.1.1 in c:\\users\\ayush\\anaconda3\\lib\\site-packages (from dash) (4.12.2)\n",
      "Requirement already satisfied: requests in c:\\users\\ayush\\anaconda3\\lib\\site-packages (from dash) (2.32.3)\n",
      "Collecting retrying (from dash)\n",
      "  Downloading retrying-1.4.0-py3-none-any.whl.metadata (7.5 kB)\n",
      "Requirement already satisfied: nest-asyncio in c:\\users\\ayush\\anaconda3\\lib\\site-packages (from dash) (1.6.0)\n",
      "Requirement already satisfied: setuptools in c:\\users\\ayush\\anaconda3\\lib\\site-packages (from dash) (72.1.0)\n",
      "Requirement already satisfied: Jinja2>=3.1.2 in c:\\users\\ayush\\anaconda3\\lib\\site-packages (from Flask<3.2,>=1.0.4->dash) (3.1.6)\n",
      "Requirement already satisfied: itsdangerous>=2.2 in c:\\users\\ayush\\anaconda3\\lib\\site-packages (from Flask<3.2,>=1.0.4->dash) (2.2.0)\n",
      "Requirement already satisfied: click>=8.1.3 in c:\\users\\ayush\\anaconda3\\lib\\site-packages (from Flask<3.2,>=1.0.4->dash) (8.1.8)\n",
      "Requirement already satisfied: blinker>=1.9 in c:\\users\\ayush\\anaconda3\\lib\\site-packages (from Flask<3.2,>=1.0.4->dash) (1.9.0)\n",
      "Requirement already satisfied: MarkupSafe>=2.1.1 in c:\\users\\ayush\\anaconda3\\lib\\site-packages (from Werkzeug<3.2->dash) (3.0.2)\n",
      "Requirement already satisfied: colorama in c:\\users\\ayush\\anaconda3\\lib\\site-packages (from click>=8.1.3->Flask<3.2,>=1.0.4->dash) (0.4.6)\n",
      "Requirement already satisfied: tenacity>=6.2.0 in c:\\users\\ayush\\anaconda3\\lib\\site-packages (from plotly>=5.0.0->dash) (9.0.0)\n",
      "Requirement already satisfied: packaging in c:\\users\\ayush\\anaconda3\\lib\\site-packages (from plotly>=5.0.0->dash) (24.2)\n",
      "Requirement already satisfied: six>=1.5 in c:\\users\\ayush\\anaconda3\\lib\\site-packages (from python-dateutil>=2.8.2->pandas) (1.17.0)\n",
      "Requirement already satisfied: zipp>=3.20 in c:\\users\\ayush\\anaconda3\\lib\\site-packages (from importlib-metadata->dash) (3.21.0)\n",
      "Requirement already satisfied: charset-normalizer<4,>=2 in c:\\users\\ayush\\anaconda3\\lib\\site-packages (from requests->dash) (3.3.2)\n",
      "Requirement already satisfied: idna<4,>=2.5 in c:\\users\\ayush\\anaconda3\\lib\\site-packages (from requests->dash) (3.7)\n",
      "Requirement already satisfied: urllib3<3,>=1.21.1 in c:\\users\\ayush\\anaconda3\\lib\\site-packages (from requests->dash) (2.3.0)\n",
      "Requirement already satisfied: certifi>=2017.4.17 in c:\\users\\ayush\\anaconda3\\lib\\site-packages (from requests->dash) (2025.4.26)\n",
      "Downloading dash-3.1.1-py3-none-any.whl (7.9 MB)\n",
      "   ---------------------------------------- 0.0/7.9 MB ? eta -:--:--\n",
      "   - -------------------------------------- 0.3/7.9 MB ? eta -:--:--\n",
      "   ----------- ---------------------------- 2.4/7.9 MB 9.5 MB/s eta 0:00:01\n",
      "   ----------------------- ---------------- 4.7/7.9 MB 10.5 MB/s eta 0:00:01\n",
      "   ----------------------------- ---------- 5.8/7.9 MB 8.8 MB/s eta 0:00:01\n",
      "   ------------------------------- -------- 6.3/7.9 MB 7.0 MB/s eta 0:00:01\n",
      "   ---------------------------------- ----- 6.8/7.9 MB 6.2 MB/s eta 0:00:01\n",
      "   ---------------------------------- ----- 6.8/7.9 MB 6.2 MB/s eta 0:00:01\n",
      "   ---------------------------------------  7.9/7.9 MB 5.3 MB/s eta 0:00:01\n",
      "   ---------------------------------------- 7.9/7.9 MB 4.6 MB/s eta 0:00:00\n",
      "Downloading retrying-1.4.0-py3-none-any.whl (11 kB)\n",
      "Installing collected packages: retrying, dash\n",
      "\n",
      "   ---------------------------------------- 0/2 [retrying]\n",
      "   -------------------- ------------------- 1/2 [dash]\n",
      "   -------------------- ------------------- 1/2 [dash]\n",
      "   -------------------- ------------------- 1/2 [dash]\n",
      "   -------------------- ------------------- 1/2 [dash]\n",
      "   -------------------- ------------------- 1/2 [dash]\n",
      "   -------------------- ------------------- 1/2 [dash]\n",
      "   -------------------- ------------------- 1/2 [dash]\n",
      "   -------------------- ------------------- 1/2 [dash]\n",
      "   -------------------- ------------------- 1/2 [dash]\n",
      "   -------------------- ------------------- 1/2 [dash]\n",
      "   -------------------- ------------------- 1/2 [dash]\n",
      "   -------------------- ------------------- 1/2 [dash]\n",
      "   -------------------- ------------------- 1/2 [dash]\n",
      "   -------------------- ------------------- 1/2 [dash]\n",
      "   -------------------- ------------------- 1/2 [dash]\n",
      "   -------------------- ------------------- 1/2 [dash]\n",
      "   -------------------- ------------------- 1/2 [dash]\n",
      "   -------------------- ------------------- 1/2 [dash]\n",
      "   -------------------- ------------------- 1/2 [dash]\n",
      "   -------------------- ------------------- 1/2 [dash]\n",
      "   -------------------- ------------------- 1/2 [dash]\n",
      "   -------------------- ------------------- 1/2 [dash]\n",
      "   -------------------- ------------------- 1/2 [dash]\n",
      "   -------------------- ------------------- 1/2 [dash]\n",
      "   -------------------- ------------------- 1/2 [dash]\n",
      "   -------------------- ------------------- 1/2 [dash]\n",
      "   -------------------- ------------------- 1/2 [dash]\n",
      "   ---------------------------------------- 2/2 [dash]\n",
      "\n",
      "Successfully installed dash-3.1.1 retrying-1.4.0\n"
     ]
    }
   ],
   "source": [
    "!pip install pandas dash"
   ]
  },
  {
   "cell_type": "code",
   "execution_count": 4,
   "id": "b0e5a340-9aba-425c-8944-fbdc898a3f30",
   "metadata": {},
   "outputs": [
    {
     "name": "stdout",
     "output_type": "stream",
     "text": [
      "Collecting httpx==0.20\n",
      "  Downloading httpx-0.20.0-py3-none-any.whl.metadata (49 kB)\n",
      "Requirement already satisfied: dash in c:\\users\\ayush\\anaconda3\\lib\\site-packages (3.1.1)\n",
      "Requirement already satisfied: plotly in c:\\users\\ayush\\anaconda3\\lib\\site-packages (5.24.1)\n",
      "Requirement already satisfied: certifi in c:\\users\\ayush\\anaconda3\\lib\\site-packages (from httpx==0.20) (2025.4.26)\n",
      "Requirement already satisfied: charset-normalizer in c:\\users\\ayush\\anaconda3\\lib\\site-packages (from httpx==0.20) (3.3.2)\n",
      "Requirement already satisfied: sniffio in c:\\users\\ayush\\anaconda3\\lib\\site-packages (from httpx==0.20) (1.3.0)\n",
      "Collecting rfc3986<2,>=1.3 (from rfc3986[idna2008]<2,>=1.3->httpx==0.20)\n",
      "  Downloading rfc3986-1.5.0-py2.py3-none-any.whl.metadata (6.5 kB)\n",
      "Collecting httpcore<0.14.0,>=0.13.3 (from httpx==0.20)\n",
      "  Downloading httpcore-0.13.7-py3-none-any.whl.metadata (13 kB)\n",
      "Collecting h11<0.13,>=0.11 (from httpcore<0.14.0,>=0.13.3->httpx==0.20)\n",
      "  Downloading h11-0.12.0-py3-none-any.whl.metadata (8.1 kB)\n",
      "Collecting anyio==3.* (from httpcore<0.14.0,>=0.13.3->httpx==0.20)\n",
      "  Downloading anyio-3.7.1-py3-none-any.whl.metadata (4.7 kB)\n",
      "Requirement already satisfied: idna>=2.8 in c:\\users\\ayush\\anaconda3\\lib\\site-packages (from anyio==3.*->httpcore<0.14.0,>=0.13.3->httpx==0.20) (3.7)\n",
      "Requirement already satisfied: Flask<3.2,>=1.0.4 in c:\\users\\ayush\\anaconda3\\lib\\site-packages (from dash) (3.1.0)\n",
      "Requirement already satisfied: Werkzeug<3.2 in c:\\users\\ayush\\anaconda3\\lib\\site-packages (from dash) (3.1.3)\n",
      "Requirement already satisfied: importlib-metadata in c:\\users\\ayush\\anaconda3\\lib\\site-packages (from dash) (8.5.0)\n",
      "Requirement already satisfied: typing-extensions>=4.1.1 in c:\\users\\ayush\\anaconda3\\lib\\site-packages (from dash) (4.12.2)\n",
      "Requirement already satisfied: requests in c:\\users\\ayush\\anaconda3\\lib\\site-packages (from dash) (2.32.3)\n",
      "Requirement already satisfied: retrying in c:\\users\\ayush\\anaconda3\\lib\\site-packages (from dash) (1.4.0)\n",
      "Requirement already satisfied: nest-asyncio in c:\\users\\ayush\\anaconda3\\lib\\site-packages (from dash) (1.6.0)\n",
      "Requirement already satisfied: setuptools in c:\\users\\ayush\\anaconda3\\lib\\site-packages (from dash) (72.1.0)\n",
      "Requirement already satisfied: Jinja2>=3.1.2 in c:\\users\\ayush\\anaconda3\\lib\\site-packages (from Flask<3.2,>=1.0.4->dash) (3.1.6)\n",
      "Requirement already satisfied: itsdangerous>=2.2 in c:\\users\\ayush\\anaconda3\\lib\\site-packages (from Flask<3.2,>=1.0.4->dash) (2.2.0)\n",
      "Requirement already satisfied: click>=8.1.3 in c:\\users\\ayush\\anaconda3\\lib\\site-packages (from Flask<3.2,>=1.0.4->dash) (8.1.8)\n",
      "Requirement already satisfied: blinker>=1.9 in c:\\users\\ayush\\anaconda3\\lib\\site-packages (from Flask<3.2,>=1.0.4->dash) (1.9.0)\n",
      "Requirement already satisfied: MarkupSafe>=2.1.1 in c:\\users\\ayush\\anaconda3\\lib\\site-packages (from Werkzeug<3.2->dash) (3.0.2)\n",
      "Requirement already satisfied: tenacity>=6.2.0 in c:\\users\\ayush\\anaconda3\\lib\\site-packages (from plotly) (9.0.0)\n",
      "Requirement already satisfied: packaging in c:\\users\\ayush\\anaconda3\\lib\\site-packages (from plotly) (24.2)\n",
      "Requirement already satisfied: colorama in c:\\users\\ayush\\anaconda3\\lib\\site-packages (from click>=8.1.3->Flask<3.2,>=1.0.4->dash) (0.4.6)\n",
      "Requirement already satisfied: zipp>=3.20 in c:\\users\\ayush\\anaconda3\\lib\\site-packages (from importlib-metadata->dash) (3.21.0)\n",
      "Requirement already satisfied: urllib3<3,>=1.21.1 in c:\\users\\ayush\\anaconda3\\lib\\site-packages (from requests->dash) (2.3.0)\n",
      "Downloading httpx-0.20.0-py3-none-any.whl (82 kB)\n",
      "Downloading httpcore-0.13.7-py3-none-any.whl (58 kB)\n",
      "Downloading anyio-3.7.1-py3-none-any.whl (80 kB)\n",
      "Downloading h11-0.12.0-py3-none-any.whl (54 kB)\n",
      "Downloading rfc3986-1.5.0-py2.py3-none-any.whl (31 kB)\n",
      "Installing collected packages: rfc3986, h11, anyio, httpcore, httpx\n",
      "\n",
      "   ---------------------------------------- 0/5 [rfc3986]\n",
      "  Attempting uninstall: h11\n",
      "   ---------------------------------------- 0/5 [rfc3986]\n",
      "    Found existing installation: h11 0.16.0\n",
      "   ---------------------------------------- 0/5 [rfc3986]\n",
      "   -------- ------------------------------- 1/5 [h11]\n",
      "   -------- ------------------------------- 1/5 [h11]\n",
      "    Uninstalling h11-0.16.0:\n",
      "   -------- ------------------------------- 1/5 [h11]\n",
      "      Successfully uninstalled h11-0.16.0\n",
      "   -------- ------------------------------- 1/5 [h11]\n",
      "   -------- ------------------------------- 1/5 [h11]\n",
      "   -------- ------------------------------- 1/5 [h11]\n",
      "   -------- ------------------------------- 1/5 [h11]\n",
      "   -------- ------------------------------- 1/5 [h11]\n",
      "  Attempting uninstall: anyio\n",
      "   -------- ------------------------------- 1/5 [h11]\n",
      "   ---------------- ----------------------- 2/5 [anyio]\n",
      "    Found existing installation: anyio 4.7.0\n",
      "   ---------------- ----------------------- 2/5 [anyio]\n",
      "   ---------------- ----------------------- 2/5 [anyio]\n",
      "    Uninstalling anyio-4.7.0:\n",
      "   ---------------- ----------------------- 2/5 [anyio]\n",
      "      Successfully uninstalled anyio-4.7.0\n",
      "   ---------------- ----------------------- 2/5 [anyio]\n",
      "   ---------------- ----------------------- 2/5 [anyio]\n",
      "   ---------------- ----------------------- 2/5 [anyio]\n",
      "   ---------------- ----------------------- 2/5 [anyio]\n",
      "   ---------------- ----------------------- 2/5 [anyio]\n",
      "  Attempting uninstall: httpcore\n",
      "   ---------------- ----------------------- 2/5 [anyio]\n",
      "    Found existing installation: httpcore 1.0.9\n",
      "   ---------------- ----------------------- 2/5 [anyio]\n",
      "   ------------------------ --------------- 3/5 [httpcore]\n",
      "   ------------------------ --------------- 3/5 [httpcore]\n",
      "    Uninstalling httpcore-1.0.9:\n",
      "   ------------------------ --------------- 3/5 [httpcore]\n",
      "      Successfully uninstalled httpcore-1.0.9\n",
      "   ------------------------ --------------- 3/5 [httpcore]\n",
      "   ------------------------ --------------- 3/5 [httpcore]\n",
      "   ------------------------ --------------- 3/5 [httpcore]\n",
      "   ------------------------ --------------- 3/5 [httpcore]\n",
      "   ------------------------ --------------- 3/5 [httpcore]\n",
      "   ------------------------ --------------- 3/5 [httpcore]\n",
      "  Attempting uninstall: httpx\n",
      "   ------------------------ --------------- 3/5 [httpcore]\n",
      "   -------------------------------- ------- 4/5 [httpx]\n",
      "    Found existing installation: httpx 0.28.1\n",
      "   -------------------------------- ------- 4/5 [httpx]\n",
      "   -------------------------------- ------- 4/5 [httpx]\n",
      "    Uninstalling httpx-0.28.1:\n",
      "   -------------------------------- ------- 4/5 [httpx]\n",
      "   -------------------------------- ------- 4/5 [httpx]\n",
      "      Successfully uninstalled httpx-0.28.1\n",
      "   -------------------------------- ------- 4/5 [httpx]\n",
      "   -------------------------------- ------- 4/5 [httpx]\n",
      "   -------------------------------- ------- 4/5 [httpx]\n",
      "   -------------------------------- ------- 4/5 [httpx]\n",
      "   -------------------------------- ------- 4/5 [httpx]\n",
      "   ---------------------------------------- 5/5 [httpx]\n",
      "\n",
      "Successfully installed anyio-3.7.1 h11-0.12.0 httpcore-0.13.7 httpx-0.20.0 rfc3986-1.5.0\n"
     ]
    },
    {
     "name": "stderr",
     "output_type": "stream",
     "text": [
      "ERROR: pip's dependency resolver does not currently take into account all the packages that are installed. This behaviour is the source of the following dependency conflicts.\n",
      "jupyterlab 4.3.4 requires httpx>=0.25.0, but you have httpx 0.20.0 which is incompatible.\n"
     ]
    }
   ],
   "source": [
    "!pip3 install httpx==0.20 dash plotly"
   ]
  },
  {
   "cell_type": "code",
   "execution_count": 19,
   "id": "12111586-0eb3-4fbe-a422-6c80af940f20",
   "metadata": {},
   "outputs": [],
   "source": [
    "# Import required packages\n",
    "import pandas as pd\n",
    "import plotly.express as px\n",
    "import dash\n",
    "from dash import dcc\n",
    "from dash import html\n",
    "from dash.dependencies import Input, Output\n",
    "\n",
    "# Read the airline data into pandas dataframe\n",
    "airline_data =  pd.read_csv('https://cf-courses-data.s3.us.cloud-object-storage.appdomain.cloud/IBMDeveloperSkillsNetwork-DV0101EN-SkillsNetwork/Data%20Files/airline_data.csv', \n",
    "                            encoding = \"ISO-8859-1\",\n",
    "                            dtype={'Div1Airport': str, 'Div1TailNum': str, \n",
    "                                   'Div2Airport': str, 'Div2TailNum': str})\n",
    "\n",
    "# Randomly sample 500 data points. Setting the random state to be 42 so that we get same result.\n",
    "data = airline_data.sample(n=500, random_state=42)\n",
    "\n",
    "# Pie Chart Creation\n",
    "fig = px.pie(data, values='Flights', names='DistanceGroup', title='Distance group proportion by flights')"
   ]
  },
  {
   "cell_type": "code",
   "execution_count": 7,
   "id": "19af8a77-c05e-4ece-b202-e8943849a819",
   "metadata": {},
   "outputs": [
    {
     "data": {
      "text/html": [
       "\n",
       "        <iframe\n",
       "            width=\"100%\"\n",
       "            height=\"650\"\n",
       "            src=\"http://127.0.0.1:8050/\"\n",
       "            frameborder=\"0\"\n",
       "            allowfullscreen\n",
       "            \n",
       "        ></iframe>\n",
       "        "
      ],
      "text/plain": [
       "<IPython.lib.display.IFrame at 0x1e2b4393750>"
      ]
     },
     "metadata": {},
     "output_type": "display_data"
    }
   ],
   "source": [
    "# Create a dash application\n",
    "app = dash.Dash(__name__)\n",
    "\n",
    "# Get the layout of the application and adjust it.\n",
    "# Create an outer division using html.Div and add title to the dashboard using html.H1 component\n",
    "# Add description about the graph using HTML P (paragraph) component\n",
    "# Finally, add graph component.\n",
    "app.layout = html.Div(children=[html.H1('Airline On-time Performance Dashboard',style={'textAlign': 'center', 'color': '#503D36', 'font-size': 50}),\n",
    "                                html.P('Proportion of distance group (250 mile distance interval group) by flights.', style={'textAlign':'center', 'color': '#F57241'}),\n",
    "                                dcc.Graph(figure=fig),\n",
    "                                               \n",
    "                    ])\n",
    "\n",
    "# Run the application                   \n",
    "if __name__ == '__main__':\n",
    "    app.run()"
   ]
  },
  {
   "cell_type": "code",
   "execution_count": null,
   "id": "09da5da4-47a5-4f64-be07-52526b09ed47",
   "metadata": {},
   "outputs": [],
   "source": [
    "airline_data =  pd.read_csv('https://cf-courses-data.s3.us.cloud-object-storage.appdomain.cloud/IBMDeveloperSkillsNetwork-DV0101EN-SkillsNetwork/Data%20Files/airline_data.csv', \n",
    "                            encoding = \"ISO-8859-1\",\n",
    "                            dtype={'Div1Airport': str, 'Div1TailNum': str, \n",
    "                                   'Div2Airport': str, 'Div2TailNum': str})"
   ]
  },
  {
   "cell_type": "code",
   "execution_count": 18,
   "id": "b4e3e3e5-36e9-499e-a6f1-e72b2532dea4",
   "metadata": {},
   "outputs": [
    {
     "data": {
      "text/html": [
       "\n",
       "        <iframe\n",
       "            width=\"100%\"\n",
       "            height=\"650\"\n",
       "            src=\"http://127.0.0.1:8050/\"\n",
       "            frameborder=\"0\"\n",
       "            allowfullscreen\n",
       "            \n",
       "        ></iframe>\n",
       "        "
      ],
      "text/plain": [
       "<IPython.lib.display.IFrame at 0x1e2b4757570>"
      ]
     },
     "metadata": {},
     "output_type": "display_data"
    }
   ],
   "source": [
    "import plotly.graph_objects as go\n",
    "\n",
    "# Create a dash application\n",
    "app = dash.Dash(__name__)\n",
    "                               \n",
    "app.layout = html.Div(children=[ html.H1('Airline Performance Dashboard',style={'textAlign': 'center', 'color': '#503D36', 'font-size': 40}),\n",
    "                                html.Div([\"Input Year: \", dcc.Input(id='input-year', value='2010', \n",
    "                                type='number', style={'height':'50px', 'font-size': 35}),], \n",
    "                                style={'font-size': 40}),\n",
    "                                html.Br(),\n",
    "                                html.Br(),\n",
    "                                html.Div(dcc.Graph(id='line-plot')),\n",
    "                                ])\n",
    "\n",
    "# add callback decorator\n",
    "@app.callback( Output(component_id='line-plot', component_property='figure'),\n",
    "               Input(component_id='input-year', component_property='value'))\n",
    "\n",
    "# Add computation to callback function and return graph\n",
    "def get_graph(entered_year):\n",
    "    # Select 2019 data\n",
    "    df =  airline_data[airline_data['Year']==int(entered_year)]\n",
    "    \n",
    "    # Group the data by Month and compute average over arrival delay time.\n",
    "    line_data = df.groupby('Month')['ArrDelay'].mean().reset_index()\n",
    "\n",
    "    fig = go.Figure(data=go.Scatter(x=line_data['Month'], y=line_data['ArrDelay'], mode='lines', marker=dict(color='green')))\n",
    "    fig.update_layout(title='Month vs Average Flight Delay Time', xaxis_title='Month', yaxis_title='ArrDelay')\n",
    "    return fig\n",
    "\n",
    "# Run the app\n",
    "if __name__ == '__main__':\n",
    "    app.run()"
   ]
  },
  {
   "cell_type": "code",
   "execution_count": 20,
   "id": "ead764bd-0217-4bea-a9d2-b4dcde4cf92d",
   "metadata": {},
   "outputs": [],
   "source": [
    "airline_data =  pd.read_csv('https://cf-courses-data.s3.us.cloud-object-storage.appdomain.cloud/IBMDeveloperSkillsNetwork-DV0101EN-SkillsNetwork/Data%20Files/airline_data.csv', \n",
    "                            encoding = \"ISO-8859-1\",\n",
    "                            dtype={'Div1Airport': str, 'Div1TailNum': str, \n",
    "                                   'Div2Airport': str, 'Div2TailNum': str})\n",
    "\n",
    "# Randomly sample 500 data points. Setting the random state to be 42 so that we get same result.\n",
    "data = airline_data.sample(n=500, random_state=42)"
   ]
  },
  {
   "cell_type": "code",
   "execution_count": 21,
   "id": "01539857-3269-4722-9ed7-e7e5338e0fac",
   "metadata": {},
   "outputs": [
    {
     "data": {
      "text/html": [
       "\n",
       "        <iframe\n",
       "            width=\"100%\"\n",
       "            height=\"650\"\n",
       "            src=\"http://127.0.0.1:8050/\"\n",
       "            frameborder=\"0\"\n",
       "            allowfullscreen\n",
       "            \n",
       "        ></iframe>\n",
       "        "
      ],
      "text/plain": [
       "<IPython.lib.display.IFrame at 0x1e2b447c850>"
      ]
     },
     "metadata": {},
     "output_type": "display_data"
    }
   ],
   "source": [
    "\n",
    "# Create a dash application\n",
    "app = dash.Dash(__name__)\n",
    "                               \n",
    "app.layout = html.Div(children=[ html.H1('Total number of flights to the destination state split by reporting air',style={'textAlign': 'center', 'color': '#503D36', 'font-size': 40}),\n",
    "                                html.Div([\"Input Year: \", dcc.Input(id='input-year', value='2010', \n",
    "                                type='number', style={'height':'50px', 'font-size': 35}),], \n",
    "                                style={'font-size': 40}),\n",
    "                                html.Br(),\n",
    "                                html.Br(),\n",
    "                                html.Div(dcc.Graph(id='bar-plot')),\n",
    "                                ])\n",
    "\n",
    "# add callback decorator\n",
    "@app.callback( Output(component_id='bar-plot', component_property='figure'),\n",
    "               Input(component_id='input-year', component_property='value'))\n",
    "\n",
    "# Add computation to callback function and return graph\n",
    "def get_graph(entered_year):\n",
    "    df =  airline_data[airline_data['Year']==int(entered_year)]\n",
    "    bar_data = df.groupby('DestState')['Flights'].sum().reset_index()\n",
    "    fig = px.bar(bar_data, x= \"DestState\", y= \"Flights\", title='Total number of flights to the destination state split by reporting airline') \n",
    "    fig.update_layout(title='Flights to Destination State', xaxis_title='DestState', yaxis_title='Flights')\n",
    "    return fig     \n",
    "\n",
    "# Run the app\n",
    "if __name__ == '__main__':\n",
    "    app.run()"
   ]
  },
  {
   "cell_type": "code",
   "execution_count": null,
   "id": "26664279-d1bc-4587-b9df-6bab3d3e71a4",
   "metadata": {},
   "outputs": [],
   "source": []
  }
 ],
 "metadata": {
  "kernelspec": {
   "display_name": "Python 3 (ipykernel)",
   "language": "python",
   "name": "python3"
  },
  "language_info": {
   "codemirror_mode": {
    "name": "ipython",
    "version": 3
   },
   "file_extension": ".py",
   "mimetype": "text/x-python",
   "name": "python",
   "nbconvert_exporter": "python",
   "pygments_lexer": "ipython3",
   "version": "3.13.5"
  }
 },
 "nbformat": 4,
 "nbformat_minor": 5
}
