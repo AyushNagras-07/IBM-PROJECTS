{
 "cells": [
  {
   "cell_type": "code",
   "execution_count": 1,
   "id": "0081919d-d431-40f3-bd9b-b192d84815a5",
   "metadata": {},
   "outputs": [],
   "source": [
    "givenstring=\"Lorem ipsum dolor! diam amet, consetetur Lorem magna. sed diam nonumy eirmod tempor. diam et labore? et diam magna. et diam amet.\""
   ]
  },
  {
   "cell_type": "code",
   "execution_count": 6,
   "id": "536425f7-0c65-4162-ae7d-d5e13b173e5a",
   "metadata": {},
   "outputs": [],
   "source": [
    "class TextAnalyzer(object):\n",
    "    def __init__(self,text):\n",
    "        text = text.lower()\n",
    "        # Remove punctuation\n",
    "        text = text.replace('.', '')\n",
    "        text = text.replace('!', '')\n",
    "        text = text.replace(',', '')\n",
    "        text = text.replace('?', '')\n",
    "        # Assign to new attribute\n",
    "        self.fmtText = text\n",
    "    def freqAll(self):\n",
    "        wordlist=self.fmtText.split(\" \")\n",
    "\n",
    "        freq={}\n",
    "        for word in set(wordlist):\n",
    "            freq[word]=wordlist.count(word)\n",
    "        return freq\n",
    "    def freqOf(self,word):\n",
    "        freqDict = self.freqAll()\n",
    "        \n",
    "        if word in freqDict:\n",
    "            return freqDict[word]\n",
    "        else:\n",
    "            return 0"
   ]
  },
  {
   "cell_type": "code",
   "execution_count": 7,
   "id": "ab68bfa6-cdf9-4daf-bb20-4e1479adbf31",
   "metadata": {},
   "outputs": [],
   "source": [
    "analyzed = TextAnalyzer(givenstring)"
   ]
  },
  {
   "cell_type": "code",
   "execution_count": 8,
   "id": "ca731113-65d0-4223-93ca-5f2b519001da",
   "metadata": {},
   "outputs": [
    {
     "name": "stdout",
     "output_type": "stream",
     "text": [
      "Formatted Text: lorem ipsum dolor diam amet consetetur lorem magna sed diam nonumy eirmod tempor diam et labore et diam magna et diam amet\n"
     ]
    }
   ],
   "source": [
    "#Call the function that converts the data into lowercase\n",
    "\n",
    "print(\"Formatted Text:\", analyzed.fmtText)"
   ]
  },
  {
   "cell_type": "code",
   "execution_count": 9,
   "id": "a40e79ce-aaa3-4c19-9b79-9828e16a94a3",
   "metadata": {},
   "outputs": [
    {
     "name": "stdout",
     "output_type": "stream",
     "text": [
      "{'dolor': 1, 'magna': 2, 'ipsum': 1, 'et': 3, 'diam': 5, 'consetetur': 1, 'amet': 2, 'sed': 1, 'nonumy': 1, 'eirmod': 1, 'labore': 1, 'tempor': 1, 'lorem': 2}\n"
     ]
    }
   ],
   "source": [
    "#Call the function that counts the frequency of all unique words from the data\n",
    "freqMap = analyzed.freqAll()\n",
    "print(freqMap)"
   ]
  },
  {
   "cell_type": "code",
   "execution_count": 10,
   "id": "953a2a77-0af2-40a8-a0c4-738a2020f8ef",
   "metadata": {},
   "outputs": [
    {
     "data": {
      "text/plain": [
       "2"
      ]
     },
     "execution_count": 10,
     "metadata": {},
     "output_type": "execute_result"
    }
   ],
   "source": [
    "num=analyzed.freqOf('lorem')\n",
    "num"
   ]
  },
  {
   "cell_type": "code",
   "execution_count": 12,
   "id": "5c702c2c-7774-4f9d-b2cb-fb92b60f2d95",
   "metadata": {},
   "outputs": [
    {
     "data": {
      "text/plain": [
       "True"
      ]
     },
     "execution_count": 12,
     "metadata": {},
     "output_type": "execute_result"
    }
   ],
   "source": [
    "\n",
    "x = 1 \n",
    "x = x > -5\n",
    "x"
   ]
  },
  {
   "cell_type": "code",
   "execution_count": 13,
   "id": "cd09ded3-9663-40e1-9605-e52bc4683d3d",
   "metadata": {},
   "outputs": [
    {
     "name": "stdout",
     "output_type": "stream",
     "text": [
      "2\n"
     ]
    }
   ],
   "source": [
    "a = 1 \n",
    "\n",
    "\n",
    "def do(x): \n",
    "    return x + a \n",
    "\n",
    "\n",
    "print(do(1))"
   ]
  },
  {
   "cell_type": "code",
   "execution_count": null,
   "id": "5a395ad3-3b37-4831-b2c2-1a96ace70bf6",
   "metadata": {},
   "outputs": [],
   "source": []
  }
 ],
 "metadata": {
  "kernelspec": {
   "display_name": "Python 3 (ipykernel)",
   "language": "python",
   "name": "python3"
  },
  "language_info": {
   "codemirror_mode": {
    "name": "ipython",
    "version": 3
   },
   "file_extension": ".py",
   "mimetype": "text/x-python",
   "name": "python",
   "nbconvert_exporter": "python",
   "pygments_lexer": "ipython3",
   "version": "3.13.5"
  }
 },
 "nbformat": 4,
 "nbformat_minor": 5
}
